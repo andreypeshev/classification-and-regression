{
 "cells": [
  {
   "cell_type": "code",
   "execution_count": 1,
   "metadata": {},
   "outputs": [],
   "source": [
    "#imports \n",
    "import numpy as np\n",
    "import matplotlib.pyplot as plt\n",
    "from sklearn.neighbors import KNeighborsClassifier\n",
    "from sklearn.model_selection import GridSearchCV\n",
    "from sklearn.svm import SVC\n",
    "from sklearn import metrics\n",
    "from sklearn.tree import DecisionTreeClassifier\n",
    "from sklearn.linear_model import LogisticRegression\n",
    "from sklearn.ensemble import RandomForestClassifier, VotingClassifier\n",
    "from sklearn.neural_network import MLPClassifier\n",
    "\n",
    "from sklearn.decomposition import PCA\n",
    "\n",
    "from imblearn.over_sampling import RandomOverSampler, SMOTE\n",
    "from imblearn.pipeline import make_pipeline\n",
    "\n",
    "\n",
    "from imblearn.pipeline import Pipeline \n",
    "import time"
   ]
  },
  {
   "cell_type": "markdown",
   "metadata": {},
   "source": [
    "# 1. Classification of Facial Expressions\n"
   ]
  },
  {
   "cell_type": "markdown",
   "metadata": {},
   "source": [
    "### 1.1 Importing the data"
   ]
  },
  {
   "cell_type": "code",
   "execution_count": 52,
   "metadata": {},
   "outputs": [
    {
     "data": {
      "text/plain": [
       "array([[100,  96,  92, ...,   2,  14,   8],\n",
       "       [ 56,  93,  96, ...,  10,  13,  10],\n",
       "       [ 91,  95, 100, ..., 125,  26,   3],\n",
       "       ...,\n",
       "       [145, 161, 172, ..., 127,  42,  87],\n",
       "       [148, 166, 177, ..., 185, 185,  74],\n",
       "       [136, 155, 165, ..., 123, 145, 143]], dtype=int64)"
      ]
     },
     "execution_count": 52,
     "metadata": {},
     "output_type": "execute_result"
    }
   ],
   "source": [
    "#load the data\n",
    "data = np.load(\"2023683_face.npz\")\n",
    "data.files\n",
    "data[\"X_train\"]"
   ]
  },
  {
   "cell_type": "code",
   "execution_count": 53,
   "metadata": {},
   "outputs": [],
   "source": [
    "#put the data into corresponding arrays\n",
    "X_train = data[\"X_train\"]\n",
    "y_train = data[\"y_train\"]\n",
    "X_test = data[\"X_test\"]\n",
    "y_test = data[\"y_test\"]\n",
    "X_valid = data[\"X_valid\"]\n",
    "y_valid = data[\"y_valid\"]"
   ]
  },
  {
   "cell_type": "markdown",
   "metadata": {},
   "source": [
    "### 1.2 EDA"
   ]
  },
  {
   "cell_type": "code",
   "execution_count": 54,
   "metadata": {},
   "outputs": [
    {
     "name": "stdout",
     "output_type": "stream",
     "text": [
      "(1930, 2304)\n",
      "(1930,)\n"
     ]
    }
   ],
   "source": [
    "print(X_train.shape)\n",
    "print(y_train.shape)"
   ]
  },
  {
   "cell_type": "code",
   "execution_count": 55,
   "metadata": {},
   "outputs": [
    {
     "data": {
      "text/plain": [
       "array([0, 1, 2], dtype=int64)"
      ]
     },
     "execution_count": 55,
     "metadata": {},
     "output_type": "execute_result"
    }
   ],
   "source": [
    "#unique categories \n",
    "np.unique(y_train)"
   ]
  },
  {
   "cell_type": "code",
   "execution_count": 56,
   "metadata": {},
   "outputs": [
    {
     "data": {
      "text/plain": [
       "array([[100,  96,  92, ...,   2,  14,   8],\n",
       "       [ 56,  93,  96, ...,  10,  13,  10],\n",
       "       [ 91,  95, 100, ..., 125,  26,   3],\n",
       "       ...,\n",
       "       [145, 161, 172, ..., 127,  42,  87],\n",
       "       [148, 166, 177, ..., 185, 185,  74],\n",
       "       [136, 155, 165, ..., 123, 145, 143]], dtype=int64)"
      ]
     },
     "execution_count": 56,
     "metadata": {},
     "output_type": "execute_result"
    }
   ],
   "source": [
    "X_train"
   ]
  },
  {
   "cell_type": "code",
   "execution_count": 57,
   "metadata": {},
   "outputs": [
    {
     "data": {
      "text/plain": [
       "(2304,)"
      ]
     },
     "execution_count": 57,
     "metadata": {},
     "output_type": "execute_result"
    }
   ],
   "source": [
    "X_train[0].shape"
   ]
  },
  {
   "cell_type": "markdown",
   "metadata": {},
   "source": [
    "#### 1.2.1 Plotting an image from each category in the data "
   ]
  },
  {
   "cell_type": "code",
   "execution_count": 58,
   "metadata": {
    "scrolled": true
   },
   "outputs": [],
   "source": [
    "#finding the indexes of the first occurances of the unique categories \n",
    "unique_categories = np.unique(y_train, return_index=True)[1]"
   ]
  },
  {
   "cell_type": "code",
   "execution_count": 59,
   "metadata": {},
   "outputs": [
    {
     "data": {
      "image/png": "[encoded data removed]",
      "text/plain": [
       "<Figure size 720x720 with 3 Axes>"
      ]
     },
     "metadata": {},
     "output_type": "display_data"
    }
   ],
   "source": [
    "#idea adopted from practical 10 \n",
    "fig, axs = plt.subplots(1, 3, figsize=(10, 10), subplot_kw={'xticks': (), 'yticks': ()})\n",
    "\n",
    "for index, ax in zip(unique_categories, [0,1,2]):\n",
    "    image = X_train[index]\n",
    "    # an instance has 2304 features meaning that the square root of this number \n",
    "    # gives the the dimensions of the image\n",
    "    image.resize(48, 48)\n",
    "    axs[ax].imshow(image)\n",
    "    axs[ax].set_title(y_train[index])"
   ]
  },
  {
   "cell_type": "markdown",
   "metadata": {},
   "source": [
    "#### 1.2.2 Displaying the number of observations for each class"
   ]
  },
  {
   "cell_type": "code",
   "execution_count": 60,
   "metadata": {},
   "outputs": [],
   "source": [
    "#combining all the target labels \n",
    "combined_labels = np.concatenate((y_train, y_test, y_valid))"
   ]
  },
  {
   "cell_type": "code",
   "execution_count": 61,
   "metadata": {},
   "outputs": [
    {
     "data": {
      "text/plain": [
       "(2401,)"
      ]
     },
     "execution_count": 61,
     "metadata": {},
     "output_type": "execute_result"
    }
   ],
   "source": [
    "combined_labels.shape"
   ]
  },
  {
   "cell_type": "code",
   "execution_count": 62,
   "metadata": {
    "scrolled": true
   },
   "outputs": [
    {
     "data": {
      "text/plain": [
       "Text(0, 0.5, 'Count')"
      ]
     },
     "execution_count": 62,
     "metadata": {},
     "output_type": "execute_result"
    },
    {
     "data": {
      "image/png": "[encoded data removed]",
      "text/plain": [
       "<Figure size 432x288 with 1 Axes>"
      ]
     },
     "metadata": {
      "needs_background": "light"
     },
     "output_type": "display_data"
    }
   ],
   "source": [
    "labels, counts = np.unique(combined_labels, return_counts=True)\n",
    "plt.bar(labels, counts)\n",
    "plt.xticks(labels)\n",
    "plt.title(\"Number of observations for each class\")\n",
    "plt.xlabel(\"Class\")\n",
    "plt.ylabel(\"Count\")"
   ]
  },
  {
   "cell_type": "code",
   "execution_count": 63,
   "metadata": {},
   "outputs": [],
   "source": [
    "#balancing the data using RandomOverSampler\n",
    "ros = RandomOverSampler(random_state=202, sampling_strategy='not majority')\n",
    "X_train_res, y_train_res = ros.fit_resample(X_train, y_train)\n",
    "X_test_res, y_test_res = ros.fit_resample(X_test, y_test)\n",
    "X_valid_res, y_valid_res = ros.fit_resample(X_valid, y_valid)"
   ]
  },
  {
   "cell_type": "markdown",
   "metadata": {},
   "source": [
    "The data seems to be unbalanced because category 0 is observed 1200 times, 1 - a little less than 800 and 2 - around 400."
   ]
  },
  {
   "cell_type": "markdown",
   "metadata": {},
   "source": [
    "Fitting a PCA:"
   ]
  },
  {
   "cell_type": "code",
   "execution_count": 64,
   "metadata": {},
   "outputs": [
    {
     "data": {
      "text/plain": [
       "(2889, 250)"
      ]
     },
     "execution_count": 64,
     "metadata": {},
     "output_type": "execute_result"
    }
   ],
   "source": [
    "#starting with a PCA with 250 components\n",
    "pca = PCA(n_components=250, random_state=202)\n",
    "pca.fit(X_train_res)\n",
    "X_train_pca = pca.transform(X_train_res)\n",
    "X_test_pca = pca.transform(X_test_res)\n",
    "X_train_pca.shape"
   ]
  },
  {
   "cell_type": "code",
   "execution_count": 65,
   "metadata": {},
   "outputs": [
    {
     "data": {
      "text/plain": [
       "<matplotlib.lines.Line2D at 0x22781232408>"
      ]
     },
     "execution_count": 65,
     "metadata": {},
     "output_type": "execute_result"
    },
    {
     "data": {
      "image/png": "[encoded data removed]",
      "text/plain": [
       "<Figure size 432x288 with 1 Axes>"
      ]
     },
     "metadata": {
      "needs_background": "light"
     },
     "output_type": "display_data"
    }
   ],
   "source": [
    "#plotting the explained variance ratio: looks like the best number of components is around 75\n",
    "plt.plot(np.cumsum(pca.explained_variance_ratio_))\n",
    "plt.axhline(y=0.95, color='r', linestyle='-')"
   ]
  },
  {
   "cell_type": "code",
   "execution_count": 66,
   "metadata": {},
   "outputs": [],
   "source": [
    "#initializing a PCA with 75 components\n",
    "pca = PCA(n_components=75, random_state=202)\n",
    "pca.fit(X_train_res)\n",
    "X_train_pca = pca.transform(X_train_res)\n",
    "X_test_pca = pca.transform(X_test_res)\n",
    "X_valid_pca = pca.transform(X_valid_res)"
   ]
  },
  {
   "cell_type": "markdown",
   "metadata": {},
   "source": [
    "### 1.3 Classfication task "
   ]
  },
  {
   "cell_type": "markdown",
   "metadata": {},
   "source": [
    "#### 1.3.1 Training KNN Classifier \n",
    "\n",
    "Initializing the baseline model. "
   ]
  },
  {
   "cell_type": "code",
   "execution_count": 67,
   "metadata": {},
   "outputs": [
    {
     "name": "stdout",
     "output_type": "stream",
     "text": [
      "Test set score: 0.6502732240437158\n",
      "Time elapsed: 0.07080960273742676\n",
      "Confusion matrix:\n",
      " [[108   3  11]\n",
      " [ 25  95   2]\n",
      " [ 72  15  35]]\n",
      "Classification report:\n",
      "               precision    recall  f1-score   support\n",
      "\n",
      "     class 0       0.53      0.89      0.66       122\n",
      "     class 1       0.84      0.78      0.81       122\n",
      "     class 2       0.73      0.29      0.41       122\n",
      "\n",
      "    accuracy                           0.65       366\n",
      "   macro avg       0.70      0.65      0.63       366\n",
      "weighted avg       0.70      0.65      0.63       366\n",
      "\n"
     ]
    }
   ],
   "source": [
    "start = time.time()\n",
    "knn = KNeighborsClassifier(n_neighbors=1)\n",
    "knn.fit(X_train_pca, y_train_res)\n",
    "pred = knn.predict(X_test_pca)\n",
    "\n",
    "print(f\"Test set score: {knn.score(X_test_pca, y_test_res)}\")\n",
    "end = time.time()\n",
    "\n",
    "print(f\"Time elapsed: {end-start}\")\n",
    "print(f\"Confusion matrix:\\n {metrics.confusion_matrix(y_test_res, pred)}\")\n",
    "target_names = ['class 0', 'class 1', 'class 2']\n",
    "print(f\"Classification report:\\n {metrics.classification_report(y_test_res, pred, target_names=target_names)}\")"
   ]
  },
  {
   "cell_type": "markdown",
   "metadata": {},
   "source": [
    "Plotting missclassified images."
   ]
  },
  {
   "cell_type": "code",
   "execution_count": 68,
   "metadata": {},
   "outputs": [
    {
     "data": {
      "image/png": "[encoded data removed]",
      "text/plain": [
       "<Figure size 1440x1440 with 6 Axes>"
      ]
     },
     "metadata": {
      "needs_background": "light"
     },
     "output_type": "display_data"
    }
   ],
   "source": [
    "#displaying two missclassified images for each class (code adapted from workbook 11)\n",
    "index = 0\n",
    "misclassifiedIndexes = []\n",
    "\n",
    "lab_0 = 0\n",
    "lab_1 = 0\n",
    "lab_2 = 0\n",
    "\n",
    "for label, predict in zip(y_test_res, pred):\n",
    "    if label != predict:\n",
    "        #we need this part in order to have only 2 images from each class\n",
    "        if label == 0 and lab_0 < 2:\n",
    "            misclassifiedIndexes.append(index)\n",
    "            lab_0 += 1\n",
    "        elif label == 1 and lab_1 < 2:\n",
    "            misclassifiedIndexes.append(index)\n",
    "            lab_1 += 1\n",
    "        elif label == 2 and lab_2 < 2:\n",
    "            misclassifiedIndexes.append(index)\n",
    "            lab_2 += 1\n",
    "    index +=1\n",
    "\n",
    "# plot the corresponding image of the 6th to 9th element in the array \n",
    "plt.figure(figsize=(20, 20))\n",
    "for plotIndex, badIndex in enumerate(misclassifiedIndexes):\n",
    "    plt.subplot(1, 6, plotIndex + 1)\n",
    "    plt.imshow(np.reshape(X_test[badIndex], (48,48)))    \n",
    "    plt.title(f'Predicted: {pred[badIndex]}, Actual: {y_test_res[badIndex]}', fontsize = 15)"
   ]
  },
  {
   "cell_type": "markdown",
   "metadata": {},
   "source": [
    "#### 1.3.2 Finding the optimal number of neighbors for KNN"
   ]
  },
  {
   "cell_type": "code",
   "execution_count": 69,
   "metadata": {},
   "outputs": [
    {
     "name": "stdout",
     "output_type": "stream",
     "text": [
      "Best accuracy: 0.66\n",
      "Optimal number of neighbors: 5\n",
      "Time elapsed: 0.2662501335144043\n",
      "Test set score with best parameters: 0.6912568306010929\n",
      "Classification report:\n",
      "               precision    recall  f1-score   support\n",
      "\n",
      "     class 0       0.59      0.82      0.69       122\n",
      "     class 1       0.88      0.70      0.78       122\n",
      "     class 2       0.68      0.55      0.61       122\n",
      "\n",
      "    accuracy                           0.69       366\n",
      "   macro avg       0.72      0.69      0.69       366\n",
      "weighted avg       0.72      0.69      0.69       366\n",
      "\n"
     ]
    }
   ],
   "source": [
    "#finding the best number of neighbors using a loop \n",
    "n_neighbors = [1, 2, 3, 4, 5, 6]\n",
    "max_accuracy = 0\n",
    "best_neighbors = 0\n",
    "\n",
    "start = time.time()\n",
    "for n in n_neighbors:\n",
    "    knn = KNeighborsClassifier(n_neighbors=n)\n",
    "    \n",
    "    knn.fit(X_train_pca, y_train_res)\n",
    "    \n",
    "    if knn.score(X_valid_pca, y_valid_res) > max_accuracy:\n",
    "        max_accuracy = knn.score(X_valid_pca, y_valid_res)\n",
    "        best_neighbors = n\n",
    "\n",
    "print(f\"Best accuracy: {max_accuracy:.2f}\")\n",
    "print(f\"Optimal number of neighbors: {best_neighbors}\")\n",
    "end = time.time()\n",
    "print(f\"Time elapsed: {end-start}\")\n",
    "\n",
    "#evaluate model on test set\n",
    "\n",
    "knn = KNeighborsClassifier(n_neighbors=best_neighbors)\n",
    "knn.fit(X_train_pca, y_train_res)\n",
    "test_score = knn.score(X_test_pca, y_test_res)\n",
    "\n",
    "print(f\"Test set score with best parameters: {test_score}\")\n",
    "print(f\"Classification report:\\n {metrics.classification_report(y_test_res, knn.predict(X_test_pca), target_names=target_names)}\")"
   ]
  },
  {
   "cell_type": "markdown",
   "metadata": {},
   "source": [
    "#### 1.3.3 Fitting different classifiers  \n",
    "\n",
    "For the hyperparameter tunings I used this resource. It had some useful tips for the different models. \n",
    "https://machinelearningmastery.com/hyperparameters-for-classification-machine-learning-algorithms/"
   ]
  },
  {
   "cell_type": "code",
   "execution_count": 20,
   "metadata": {},
   "outputs": [
    {
     "name": "stdout",
     "output_type": "stream",
     "text": [
      "Time elapsed: 0.4777240753173828\n",
      "Test set score: 0.8360655737704918\n",
      "Confusion matrix:\n",
      "[[ 95   5  22]\n",
      " [  3 113   2]\n",
      " [ 24   4  98]]\n",
      "Classification report:\n",
      "               precision    recall  f1-score   support\n",
      "\n",
      "     class 0       0.78      0.78      0.78       122\n",
      "     class 1       0.96      0.93      0.94       122\n",
      "     class 2       0.78      0.80      0.79       122\n",
      "\n",
      "    accuracy                           0.84       366\n",
      "   macro avg       0.84      0.84      0.84       366\n",
      "weighted avg       0.84      0.84      0.84       366\n",
      "\n"
     ]
    }
   ],
   "source": [
    "#SVM Classifier without hyperparameter tuning\n",
    "start = time.time()\n",
    "svc = SVC()\n",
    "svc.fit(X_train_pca, y_train_res)\n",
    "pred = svc.predict(X_test_pca)\n",
    "end = time.time()\n",
    "\n",
    "print(f\"Time elapsed: {end-start}\")\n",
    "print(f\"Test set score: {svc.score(X_test_pca, y_test_res)}\")\n",
    "print(f\"Confusion matrix:\\n{metrics.confusion_matrix(pred, y_test_res)}\")\n",
    "print(f\"Classification report:\\n {metrics.classification_report(y_test_res, pred, target_names=target_names)}\")"
   ]
  },
  {
   "cell_type": "code",
   "execution_count": 21,
   "metadata": {},
   "outputs": [
    {
     "name": "stdout",
     "output_type": "stream",
     "text": [
      "Best score: 0.90\n",
      "Best hyperparameters: {'C': 10, 'kernel': 'rbf'}\n",
      "Time elapsed: 5.4803009033203125\n",
      "Test set score with best parameters: 0.8333333333333334\n",
      "Classification report:\n",
      "               precision    recall  f1-score   support\n",
      "\n",
      "     class 0       0.72      0.88      0.79       122\n",
      "     class 1       0.97      0.91      0.94       122\n",
      "     class 2       0.85      0.71      0.78       122\n",
      "\n",
      "    accuracy                           0.83       366\n",
      "   macro avg       0.85      0.83      0.83       366\n",
      "weighted avg       0.85      0.83      0.83       366\n",
      "\n"
     ]
    }
   ],
   "source": [
    "#SVM Classifier with hyperparameter tuning\n",
    "best_score = 0\n",
    "best_parameters = {}\n",
    "\n",
    "start = time.time()\n",
    "for C in [0.01, 0.1, 1, 10, 100]:\n",
    "    for kernel in [\"rbf\", 'poly']:\n",
    "        #fitting a model for each combination of hyperparemeters\n",
    "        svc =  SVC(C=C, kernel=kernel)\n",
    "        svc.fit(X_train_pca, y_train_res)\n",
    "        \n",
    "        #evaluating the model on the validation set\n",
    "        score = svc.score(X_valid_pca, y_valid_res)\n",
    "        \n",
    "        if score > best_score:\n",
    "            best_score = score \n",
    "            best_parameters = {'C': C, 'kernel':kernel}\n",
    "\n",
    "\n",
    "print(f\"Best score: {best_score:.2f}\")\n",
    "print(f\"Best hyperparameters: {best_parameters}\")\n",
    "end = time.time()\n",
    "print(f\"Time elapsed: {end-start}\")\n",
    "# fitting the model with best parameters on the test set\n",
    "\n",
    "svc =  SVC(**best_parameters)\n",
    "svc.fit(X_train_pca, y_train_res)\n",
    "test_score = svc.score(X_test_pca, y_test_res)\n",
    "\n",
    "print(f\"Test set score with best parameters: {test_score}\")\n",
    "print(f\"Classification report:\\n {metrics.classification_report(y_test_res, svc.predict(X_test_pca), target_names=target_names)}\")"
   ]
  },
  {
   "cell_type": "code",
   "execution_count": 22,
   "metadata": {},
   "outputs": [
    {
     "name": "stdout",
     "output_type": "stream",
     "text": [
      "Time elapsed: 0.17658352851867676\n",
      "Test set score: 0.6229508196721312\n",
      "Confusion matrix:\n",
      "[[91 20 64]\n",
      " [ 8 93 14]\n",
      " [23  9 44]]\n",
      "Classification report:\n",
      "               precision    recall  f1-score   support\n",
      "\n",
      "     class 0       0.52      0.75      0.61       122\n",
      "     class 1       0.81      0.76      0.78       122\n",
      "     class 2       0.58      0.36      0.44       122\n",
      "\n",
      "    accuracy                           0.62       366\n",
      "   macro avg       0.64      0.62      0.61       366\n",
      "weighted avg       0.64      0.62      0.61       366\n",
      "\n"
     ]
    }
   ],
   "source": [
    "#Decision Tree Classifier without hyperparameter tuning\n",
    "start = time.time()\n",
    "dtc = DecisionTreeClassifier(random_state = 202)\n",
    "\n",
    "dtc.fit(X_train_pca, y_train_res)\n",
    "end = time.time()\n",
    "print(f\"Time elapsed: {end-start}\")\n",
    "\n",
    "pred = dtc.predict(X_test_pca)\n",
    "print(f\"Test set score: {dtc.score(X_test_pca, y_test_res)}\")\n",
    "print(f\"Confusion matrix:\\n{metrics.confusion_matrix(pred, y_test_res)}\")\n",
    "print(f\"Classification report:\\n {metrics.classification_report(y_test_res, pred, target_names=target_names)}\")"
   ]
  },
  {
   "cell_type": "code",
   "execution_count": 23,
   "metadata": {},
   "outputs": [
    {
     "name": "stdout",
     "output_type": "stream",
     "text": [
      "Best score: 0.74\n",
      "Best hyperparameters: {'criterion': 'entropy', 'max_depth': 9, 'splitter': 'best'}\n",
      "Time elapsed: 2.6220104694366455\n",
      "Test set score with best parameters: 0.7049180327868853\n",
      "Confusion matrix:\n",
      "[[78 14 32]\n",
      " [11 99  9]\n",
      " [33  9 81]]\n",
      "Classification report:\n",
      "               precision    recall  f1-score   support\n",
      "\n",
      "     class 0       0.63      0.64      0.63       122\n",
      "     class 1       0.83      0.81      0.82       122\n",
      "     class 2       0.66      0.66      0.66       122\n",
      "\n",
      "    accuracy                           0.70       366\n",
      "   macro avg       0.71      0.70      0.71       366\n",
      "weighted avg       0.71      0.70      0.71       366\n",
      "\n"
     ]
    }
   ],
   "source": [
    "#Decision Tree Classifier with hyperparameter tuning\n",
    "\n",
    "best_score = 0\n",
    "best_parameters = {}\n",
    "\n",
    "start = time.time()\n",
    "for criterion in ['gini', 'entropy']:\n",
    "    for max_depth in [3,6,9,12,15,17,20]:\n",
    "        for splitter in ['best', 'random']:\n",
    "            #fitting a model for each combination of hyperparemeters\n",
    "            dtc = DecisionTreeClassifier(random_state=202, criterion=criterion, max_depth=max_depth, splitter=splitter)\n",
    "            dtc.fit(X_train_pca, y_train_res)\n",
    "        \n",
    "            #evaluating the model on the validation set\n",
    "            score = dtc.score(X_valid_pca, y_valid_res)\n",
    "        \n",
    "            if score > best_score:\n",
    "                best_score = score \n",
    "                best_parameters = {'criterion': criterion, 'max_depth':max_depth, 'splitter':splitter}\n",
    "\n",
    "\n",
    "print(f\"Best score: {best_score:.2f}\")\n",
    "print(f\"Best hyperparameters: {best_parameters}\")\n",
    "end = time.time()\n",
    "print(f\"Time elapsed: {end-start}\")\n",
    "\n",
    "# fitting the model with best parameters on the test set\n",
    "\n",
    "dtc = DecisionTreeClassifier(**best_parameters, random_state=202)\n",
    "dtc.fit(X_train_pca, y_train_res)\n",
    "test_score = dtc.score(X_test_pca, y_test_res)\n",
    "\n",
    "print(f\"Test set score with best parameters: {test_score}\")\n",
    "print(f\"Confusion matrix:\\n{metrics.confusion_matrix(dtc.predict(X_test_pca), y_test_res)}\")\n",
    "print(f\"Classification report:\\n {metrics.classification_report(y_test_res, dtc.predict(X_test_pca), target_names=target_names)}\")"
   ]
  },
  {
   "cell_type": "code",
   "execution_count": 24,
   "metadata": {},
   "outputs": [
    {
     "name": "stdout",
     "output_type": "stream",
     "text": [
      "Time elapsed: 3.8905959129333496\n",
      "Test set score: 0.8278688524590164\n",
      "Confusion matrix:\n",
      "[[ 99   4  27]\n",
      " [  4 109   0]\n",
      " [ 19   9  95]]\n",
      "Classification report:\n",
      "               precision    recall  f1-score   support\n",
      "\n",
      "     class 0       0.76      0.81      0.79       122\n",
      "     class 1       0.96      0.89      0.93       122\n",
      "     class 2       0.77      0.78      0.78       122\n",
      "\n",
      "    accuracy                           0.83       366\n",
      "   macro avg       0.83      0.83      0.83       366\n",
      "weighted avg       0.83      0.83      0.83       366\n",
      "\n"
     ]
    }
   ],
   "source": [
    "#Logistic Regression without hyperparameter tuning\n",
    "start = time.time()\n",
    "log_reg = LogisticRegression(max_iter = 10000)\n",
    "log_reg.fit(X_train_pca, y_train_res)\n",
    "end = time.time()\n",
    "print(f\"Time elapsed: {end-start}\")\n",
    "pred = log_reg.predict(X_test_pca)\n",
    "print(f\"Test set score: {log_reg.score(X_test_pca, y_test_res)}\")\n",
    "print(f\"Confusion matrix:\\n{metrics.confusion_matrix(pred, y_test_res)}\")\n",
    "print(f\"Classification report:\\n {metrics.classification_report(y_test_res, pred, target_names=target_names)}\")"
   ]
  },
  {
   "cell_type": "code",
   "execution_count": 25,
   "metadata": {},
   "outputs": [
    {
     "name": "stdout",
     "output_type": "stream",
     "text": [
      "Best score: 0.82\n",
      "Best hyperparameters: {'solver': 'newton-cg', 'C': 0.0001}\n",
      "Time elapsed: 31.4239661693573\n",
      "Test set score with best parameters: 0.8306010928961749\n",
      "Confusion matrix:\n",
      "[[ 98   5  27]\n",
      " [  4 111   0]\n",
      " [ 20   6  95]]\n",
      "Classification report:\n",
      "               precision    recall  f1-score   support\n",
      "\n",
      "     class 0       0.75      0.80      0.78       122\n",
      "     class 1       0.97      0.91      0.94       122\n",
      "     class 2       0.79      0.78      0.78       122\n",
      "\n",
      "    accuracy                           0.83       366\n",
      "   macro avg       0.83      0.83      0.83       366\n",
      "weighted avg       0.83      0.83      0.83       366\n",
      "\n"
     ]
    }
   ],
   "source": [
    "#Logistic Regression with hyperparameter tuning\n",
    "\n",
    "best_score = 0\n",
    "best_parameters = {}\n",
    "\n",
    "start = time.time()\n",
    "for C in [0.0001, 0.01, 0.1, 1, 10]:\n",
    "    for solver in ['newton-cg', 'lbfgs', 'sag']:\n",
    "            #fitting a model for each combination of hyperparemeters\n",
    "            log_reg = LogisticRegression(solver=solver, C=C,max_iter = 10000)\n",
    "            log_reg.fit(X_train_pca, y_train_res)\n",
    "        \n",
    "            #evaluating the model on the validation set\n",
    "            score = log_reg.score(X_valid_pca, y_valid_res)\n",
    "        \n",
    "            if score > best_score:\n",
    "                best_score = score \n",
    "                best_parameters = {'solver':solver, 'C':C}\n",
    "\n",
    "\n",
    "print(f\"Best score: {best_score:.2f}\")\n",
    "print(f\"Best hyperparameters: {best_parameters}\")\n",
    "end = time.time()\n",
    "print(f\"Time elapsed: {end-start}\")\n",
    "\n",
    "# fitting the model with best parameters on the test set\n",
    "\n",
    "log_reg = LogisticRegression(**best_parameters, max_iter = 10000)\n",
    "log_reg.fit(X_train_pca, y_train_res)\n",
    "test_score = log_reg.score(X_test_pca, y_test_res)\n",
    "\n",
    "print(f\"Test set score with best parameters: {test_score}\")\n",
    "print(f\"Confusion matrix:\\n{metrics.confusion_matrix(log_reg.predict(X_test_pca), y_test_res)}\")\n",
    "print(f\"Classification report:\\n {metrics.classification_report(y_test_res, log_reg.predict(X_test_pca), target_names=target_names)}\")"
   ]
  },
  {
   "cell_type": "code",
   "execution_count": 49,
   "metadata": {},
   "outputs": [
    {
     "name": "stdout",
     "output_type": "stream",
     "text": [
      "Time elapsed: 0.8547160625457764\n",
      "Test set score: 0.8087431693989071\n",
      "Confusion matrix:\n",
      "[[106  16  36]\n",
      " [  8 106   2]\n",
      " [  8   0  84]]\n",
      "Classification report:\n",
      "               precision    recall  f1-score   support\n",
      "\n",
      "     class 0       0.67      0.87      0.76       122\n",
      "     class 1       0.91      0.87      0.89       122\n",
      "     class 2       0.91      0.69      0.79       122\n",
      "\n",
      "    accuracy                           0.81       366\n",
      "   macro avg       0.83      0.81      0.81       366\n",
      "weighted avg       0.83      0.81      0.81       366\n",
      "\n"
     ]
    }
   ],
   "source": [
    "#MLP classifier without hyperparameter tuning\n",
    "start = time.time()\n",
    "mnb = MLPClassifier(random_state=202, max_iter=1000)\n",
    "mnb.fit(X_train_pca, y_train_res)\n",
    "end = time.time()\n",
    "print(f\"Time elapsed: {end-start}\")\n",
    "pred = mnb.predict(X_test_pca)\n",
    "print(f\"Test set score: {mnb.score(X_test_pca, y_test_res)}\")\n",
    "print(f\"Confusion matrix:\\n{metrics.confusion_matrix(pred, y_test_res)}\")\n",
    "print(f\"Classification report:\\n {metrics.classification_report(y_test_res, pred, target_names=target_names)}\")"
   ]
  },
  {
   "cell_type": "code",
   "execution_count": 27,
   "metadata": {},
   "outputs": [
    {
     "name": "stdout",
     "output_type": "stream",
     "text": [
      "Best score: 0.86\n",
      "Best hyperparameters: {'alpha': 0.7}\n",
      "Time elapsed: 16.085976123809814\n",
      "Test set score with best parameters: 0.8797814207650273\n",
      "Confusion matrix:\n",
      "[[112   7  27]\n",
      " [  3 115   0]\n",
      " [  7   0  95]]\n",
      "Classification report:\n",
      "               precision    recall  f1-score   support\n",
      "\n",
      "     class 0       0.77      0.92      0.84       122\n",
      "     class 1       0.97      0.94      0.96       122\n",
      "     class 2       0.93      0.78      0.85       122\n",
      "\n",
      "    accuracy                           0.88       366\n",
      "   macro avg       0.89      0.88      0.88       366\n",
      "weighted avg       0.89      0.88      0.88       366\n",
      "\n"
     ]
    }
   ],
   "source": [
    "#MLP Classifier with hyperparameter tuning\n",
    "\n",
    "best_score = 0\n",
    "best_parameters = {}\n",
    "\n",
    "start = time.time()\n",
    "for alpha in [0.001, 0.01, 0.1, 0.5, 0.7 ,0.8]:\n",
    "    #fitting a model for each combination of hyperparemeters\n",
    "    mnb = MLPClassifier(alpha=alpha, max_iter = 1000, random_state=202)\n",
    "    mnb.fit(X_train_pca, y_train_res)\n",
    "        \n",
    "    #evaluating the model on the validation set\n",
    "    score = mnb.score(X_valid_pca, y_valid_res)\n",
    "        \n",
    "    if score > best_score:\n",
    "        best_score = score \n",
    "        best_parameters = {'alpha': alpha}\n",
    "\n",
    "\n",
    "print(f\"Best score: {best_score:.2f}\")\n",
    "print(f\"Best hyperparameters: {best_parameters}\")\n",
    "end = time.time()\n",
    "print(f\"Time elapsed: {end-start}\")\n",
    "\n",
    "# fitting the model with best parameters on the test set\n",
    "\n",
    "mnb = MLPClassifier(**best_parameters, max_iter = 1000, random_state=202)\n",
    "mnb.fit(X_train_pca, y_train_res)\n",
    "test_score = mnb.score(X_test_pca, y_test_res)\n",
    "\n",
    "print(f\"Test set score with best parameters: {test_score}\")\n",
    "print(f\"Confusion matrix:\\n{metrics.confusion_matrix(mnb.predict(X_test_pca), y_test_res)}\")\n",
    "print(f\"Classification report:\\n {metrics.classification_report(y_test_res, mnb.predict(X_test_pca), target_names=target_names)}\")"
   ]
  },
  {
   "cell_type": "code",
   "execution_count": 70,
   "metadata": {},
   "outputs": [
    {
     "name": "stdout",
     "output_type": "stream",
     "text": [
      "Time elapsed: 1.3194336891174316\n",
      "Test set score: 0.7923497267759563\n",
      "Confusion matrix:\n",
      "[[119  16  57]\n",
      " [  2 106   0]\n",
      " [  1   0  65]]\n",
      "Classification report:\n",
      "               precision    recall  f1-score   support\n",
      "\n",
      "     class 0       0.62      0.98      0.76       122\n",
      "     class 1       0.98      0.87      0.92       122\n",
      "     class 2       0.98      0.53      0.69       122\n",
      "\n",
      "    accuracy                           0.79       366\n",
      "   macro avg       0.86      0.79      0.79       366\n",
      "weighted avg       0.86      0.79      0.79       366\n",
      "\n"
     ]
    }
   ],
   "source": [
    "# Random Forest Classifier without hyperparameter tuning\n",
    "start = time.time()\n",
    "rfc = RandomForestClassifier(random_state=202)\n",
    "rfc.fit(X_train_pca, y_train_res)\n",
    "end = time.time()\n",
    "print(f\"Time elapsed: {end-start}\")\n",
    "pred = rfc.predict(X_test_pca)\n",
    "print(f\"Test set score: {rfc.score(X_test_pca, y_test_res)}\")\n",
    "print(f\"Confusion matrix:\\n{metrics.confusion_matrix(pred, y_test_res)}\")\n",
    "print(f\"Classification report:\\n {metrics.classification_report(y_test_res, rfc.predict(X_test_pca), target_names=target_names)}\")"
   ]
  },
  {
   "cell_type": "code",
   "execution_count": 29,
   "metadata": {},
   "outputs": [
    {
     "name": "stdout",
     "output_type": "stream",
     "text": [
      "{'bootstrap': True, 'ccp_alpha': 0.0, 'class_weight': None, 'criterion': 'gini', 'max_depth': None, 'max_features': 'auto', 'max_leaf_nodes': None, 'max_samples': None, 'min_impurity_decrease': 0.0, 'min_impurity_split': None, 'min_samples_leaf': 1, 'min_samples_split': 2, 'min_weight_fraction_leaf': 0.0, 'n_estimators': 100, 'n_jobs': None, 'oob_score': False, 'random_state': 202, 'verbose': 0, 'warm_start': False}\n"
     ]
    }
   ],
   "source": [
    "print(rfc.get_params())"
   ]
  },
  {
   "cell_type": "code",
   "execution_count": 30,
   "metadata": {},
   "outputs": [
    {
     "name": "stdout",
     "output_type": "stream",
     "text": [
      "Best score: 0.75\n",
      "Best hyperparameters: {'max_features': 10, 'n_estimators': 100, 'max_depth': 20}\n",
      "Time elapsed: 195.14487385749817\n",
      "Test set score with best parameters: 0.73224043715847\n",
      "Confusion matrix:\n",
      "[[113  24  63]\n",
      " [  3  98   2]\n",
      " [  6   0  57]]\n",
      "Classification report:\n",
      "               precision    recall  f1-score   support\n",
      "\n",
      "     class 0       0.56      0.93      0.70       122\n",
      "     class 1       0.95      0.80      0.87       122\n",
      "     class 2       0.90      0.47      0.62       122\n",
      "\n",
      "    accuracy                           0.73       366\n",
      "   macro avg       0.81      0.73      0.73       366\n",
      "weighted avg       0.81      0.73      0.73       366\n",
      "\n"
     ]
    }
   ],
   "source": [
    "#Random Forest Classifier with hyperparameter tuning\n",
    "\n",
    "best_score = 0\n",
    "best_parameters = {}\n",
    "\n",
    "start = time.time()\n",
    "for max_features in [8, 9, 10, 11]:\n",
    "    for n_estimators in [10, 100, 1000]:\n",
    "        for max_depth in [10, 20, 30]:\n",
    "            #fitting a model for each combination of hyperparemeters\n",
    "            rfc = RandomForestClassifier(max_features=max_features, n_estimators=n_estimators, max_depth=max_depth, random_state=202)\n",
    "            rfc.fit(X_train_pca, y_train_res)\n",
    "        \n",
    "            #evaluating the model on the validation set\n",
    "            score = rfc.score(X_valid_pca, y_valid_res)\n",
    "        \n",
    "            if score > best_score:\n",
    "                best_score = score \n",
    "                best_parameters = {'max_features': max_features, 'n_estimators': n_estimators,  'max_depth':max_depth}\n",
    "\n",
    "\n",
    "print(f\"Best score: {best_score:.2f}\")\n",
    "print(f\"Best hyperparameters: {best_parameters}\")\n",
    "end = time.time()\n",
    "print(f\"Time elapsed: {end-start}\")\n",
    "\n",
    "# fitting the model with best parameters on the test set\n",
    "\n",
    "rfc = RandomForestClassifier(**best_parameters, random_state=202)\n",
    "rfc.fit(X_train_pca, y_train_res)\n",
    "test_score = rfc.score(X_test_pca, y_test_res)\n",
    "\n",
    "print(f\"Test set score with best parameters: {test_score}\")\n",
    "print(f\"Confusion matrix:\\n{metrics.confusion_matrix(rfc.predict(X_test_pca), y_test_res)}\")\n",
    "print(f\"Classification report:\\n {metrics.classification_report(y_test_res, rfc.predict(X_test_pca), target_names=target_names)}\")"
   ]
  },
  {
   "cell_type": "code",
   "execution_count": 71,
   "metadata": {},
   "outputs": [
    {
     "name": "stdout",
     "output_type": "stream",
     "text": [
      "Test set score: 0.825136612021858\n",
      "Confusion matrix:\n",
      "[[104   8  33]\n",
      " [  3 109   0]\n",
      " [ 15   5  89]]\n"
     ]
    }
   ],
   "source": [
    "#Voting\n",
    "model1 = LogisticRegression(max_iter=10000, solver='newton-cg', C=0.0001)\n",
    "model2 = DecisionTreeClassifier(criterion = 'entropy', max_depth = 9, splitter = 'best')\n",
    "model3 = SVC(C = 10, kernel = 'rbf')\n",
    "\n",
    "voting_model = VotingClassifier(estimators = [('log_reg', model1), ('dt', model2), ('svc', model3)], voting='hard')\n",
    "voting_model.fit(X_train_pca, y_train_res)\n",
    "pred = voting_model.predict(X_test_pca)\n",
    "print(\"Test set score:\", voting_model.score(X_test_pca, y_test_res))\n",
    "print(f\"Confusion matrix:\\n{metrics.confusion_matrix(pred, y_test_res)}\")"
   ]
  },
  {
   "cell_type": "code",
   "execution_count": null,
   "metadata": {},
   "outputs": [],
   "source": []
  }
 ],
 "metadata": {
  "kernelspec": {
   "display_name": "Python 3",
   "language": "python",
   "name": "python3"
  },
  "language_info": {
   "codemirror_mode": {
    "name": "ipython",
    "version": 3
   },
   "file_extension": ".py",
   "mimetype": "text/x-python",
   "name": "python",
   "nbconvert_exporter": "python",
   "pygments_lexer": "ipython3",
   "version": "3.7.4"
  }
 },
 "nbformat": 4,
 "nbformat_minor": 2
}
